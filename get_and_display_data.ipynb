{
 "cells": [
  {
   "cell_type": "code",
   "execution_count": 65,
   "id": "00bae2f6",
   "metadata": {},
   "outputs": [
    {
     "name": "stdout",
     "output_type": "stream",
     "text": [
      "/home/hsp252/nas_mount/hunter.ids.data/hunter.ids.preprocessor/processed_dataframes/angriff/2025-03-06_02-01-10_192.168.1.0-normal_DDoS_6/1556222629.646326-1556222659.646326\n",
      "[]\n"
     ]
    }
   ],
   "source": [
    "import data_analysis.data_processing as dp\n",
    "import data_analysis.data_learning as dl\n",
    "\n",
    "# reload module to bypass caching\n",
    "import importlib\n",
    "importlib.reload(dp)\n",
    "importlib.reload(dl)\n",
    "\n",
    "# treat it as a long path to avoid path length issues\n",
    "test_window_path_home = dp.Path(r'\\\\?\\C:\\Users\\jannis\\Documents\\HSP_IDS\\Material\\Aktuell\\2025-02-17_11-14-33_192.168.1.0-normal_1\\1554220324.748197-1554220354.748197')\n",
    "test_window_path_remote = dp.Path(r'/home/hsp252/nas_mount/hunter.ids.data/hunter.ids.preprocessor/processed_dataframes/angriff/2025-03-04_00-03-20_192.168.1.0-normal_DDoS_1/1556203726.876922-1556203756.876922')\n",
    "\n",
    "attack_data_set_path = dp.Path(r'/home/hsp252/nas_mount/hunter.ids.data/hunter.ids.preprocessor/processed_dataframes/angriff')\n",
    "\n",
    "thirty_second_windows_paths = dp.getThirtySecondWindows(attack_data_set_path)\n",
    "sample = thirty_second_windows_paths.groupby(\"type\").sample(n=10, random_state=42).reset_index(drop=True)\n",
    "\n",
    "thirty_second_windows_pcas = []\n",
    "\n",
    "for path in sample[\"path\"]:\n",
    "    print(path)\n",
    "    #tsw = dp.ThirtySecWindow(dp.Path(path))\n",
    "    #thirty_second_windows_pcas.append(dl.create_feature_vector(tsw))\n",
    "    break\n",
    "\n",
    "print(thirty_second_windows_pcas)\n",
    "\n",
    "\n",
    "\n",
    "\n",
    "\n",
    "\n",
    "\n",
    "\n",
    "\n",
    "\n"
   ]
  }
 ],
 "metadata": {
  "kernelspec": {
   "display_name": "jannis_env",
   "language": "python",
   "name": "python3"
  },
  "language_info": {
   "codemirror_mode": {
    "name": "ipython",
    "version": 3
   },
   "file_extension": ".py",
   "mimetype": "text/x-python",
   "name": "python",
   "nbconvert_exporter": "python",
   "pygments_lexer": "ipython3",
   "version": "3.11.9"
  }
 },
 "nbformat": 4,
 "nbformat_minor": 5
}
