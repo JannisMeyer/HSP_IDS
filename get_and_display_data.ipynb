{
 "cells": [
  {
   "cell_type": "code",
   "execution_count": null,
   "id": "00bae2f6",
   "metadata": {},
   "outputs": [
    {
     "ename": "AttributeError",
     "evalue": "module 'data_analysis.data_processing' has no attribute 'get_connection_features'",
     "output_type": "error",
     "traceback": [
      "\u001b[1;31m---------------------------------------------------------------------------\u001b[0m",
      "\u001b[1;31mAttributeError\u001b[0m                            Traceback (most recent call last)",
      "Cell \u001b[1;32mIn[1], line 13\u001b[0m\n\u001b[0;32m     10\u001b[0m test_data_set_path \u001b[38;5;241m=\u001b[39m d\u001b[38;5;241m.\u001b[39mPath(\u001b[38;5;124mr\u001b[39m\u001b[38;5;124m'\u001b[39m\u001b[38;5;130;01m\\\\\u001b[39;00m\u001b[38;5;124m?\u001b[39m\u001b[38;5;124m\\\u001b[39m\u001b[38;5;124mC:\u001b[39m\u001b[38;5;124m\\\u001b[39m\u001b[38;5;124mUsers\u001b[39m\u001b[38;5;124m\\\u001b[39m\u001b[38;5;124mjannis\u001b[39m\u001b[38;5;124m\\\u001b[39m\u001b[38;5;124mDocuments\u001b[39m\u001b[38;5;124m\\\u001b[39m\u001b[38;5;124mHSP_IDS\u001b[39m\u001b[38;5;124m\\\u001b[39m\u001b[38;5;124mMaterial\u001b[39m\u001b[38;5;124m\\\u001b[39m\u001b[38;5;124mAktuell\u001b[39m\u001b[38;5;124m\\\u001b[39m\u001b[38;5;124m2025-02-17_11-14-33_192.168.1.0-normal_1\u001b[39m\u001b[38;5;124m'\u001b[39m)\n\u001b[0;32m     12\u001b[0m \u001b[38;5;66;03m# get connection features per host\u001b[39;00m\n\u001b[1;32m---> 13\u001b[0m features \u001b[38;5;241m=\u001b[39m \u001b[43md\u001b[49m\u001b[38;5;241;43m.\u001b[39;49m\u001b[43mget_connection_features\u001b[49m(test_window_path)\n\u001b[0;32m     14\u001b[0m \u001b[38;5;28mprint\u001b[39m(features)\n\u001b[0;32m     16\u001b[0m \u001b[38;5;66;03m# plot correlation heatmap\u001b[39;00m\n\u001b[0;32m     17\u001b[0m \u001b[38;5;66;03m#d.plot_correlation_heatmap(test_window)\u001b[39;00m\n\u001b[0;32m     18\u001b[0m \n\u001b[1;32m   (...)\u001b[0m\n\u001b[0;32m     27\u001b[0m \u001b[38;5;66;03m# print reduced features\u001b[39;00m\n\u001b[0;32m     28\u001b[0m \u001b[38;5;66;03m#print(d.get_reduced_feature_df(features))\u001b[39;00m\n",
      "\u001b[1;31mAttributeError\u001b[0m: module 'data_analysis.data_processing' has no attribute 'get_connection_features'"
     ]
    }
   ],
   "source": [
    "import data_analysis.data_processing as d\n",
    "\n",
    "# reload module to bypass caching\n",
    "import importlib\n",
    "importlib.reload(d)\n",
    "\n",
    "# treat it as a long path to avoid path length issues\n",
    "test_window_path = d.Path(r'\\\\?\\C:\\Users\\jannis\\Documents\\HSP_IDS\\Material\\Aktuell\\2025-02-17_11-14-33_192.168.1.0-normal_1\\1554220324.748197-1554220354.748197')\n",
    "test_window = d.ThirtySecWindow(test_window_path)\n",
    "test_data_set_path = d.Path(r'\\\\?\\C:\\Users\\jannis\\Documents\\HSP_IDS\\Material\\Aktuell\\2025-02-17_11-14-33_192.168.1.0-normal_1')\n",
    "\n",
    "# get connection features per host\n",
    "features = d.get_connection_features_per_host(test_window_path)\n",
    "print(features)\n",
    "\n",
    "# plot correlation heatmap\n",
    "#d.plot_correlation_heatmap(test_window)\n",
    "\n",
    "# show features\n",
    "#d.show_s3_features(test_window)\n",
    "#d.plot_s3_feature(test_window, 'sq_identifier')\n",
    "\n",
    "# iterate over feature sets yielded by the load-function and process\n",
    "#for connection_feature_set in d.load_windows_one_by_one(test_data_set_path):\n",
    " #   d.feed_to_model(connection_feature_set)\n",
    "\n",
    "# print reduced features\n",
    "#print(d.get_reduced_feature_df(features))"
   ]
  }
 ],
 "metadata": {
  "kernelspec": {
   "display_name": "Python 3",
   "language": "python",
   "name": "python3"
  },
  "language_info": {
   "codemirror_mode": {
    "name": "ipython",
    "version": 3
   },
   "file_extension": ".py",
   "mimetype": "text/x-python",
   "name": "python",
   "nbconvert_exporter": "python",
   "pygments_lexer": "ipython3",
   "version": "3.11.9"
  }
 },
 "nbformat": 4,
 "nbformat_minor": 5
}
