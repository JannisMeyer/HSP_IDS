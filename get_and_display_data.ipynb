{
 "cells": [
  {
   "cell_type": "code",
   "execution_count": null,
   "id": "00bae2f6",
   "metadata": {},
   "outputs": [
    {
     "name": "stdout",
     "output_type": "stream",
     "text": [
      "(6083399, 159)\n"
     ]
    }
   ],
   "source": [
    "import data_analysis.data_processing as dp\n",
    "import data_analysis.data_learning as dl\n",
    "\n",
    "# reload module to bypass caching\n",
    "import importlib\n",
    "importlib.reload(dp)\n",
    "importlib.reload(dl)\n",
    "\n",
    "# paths\n",
    "test_window_path_home = dp.Path(r'\\\\?\\C:\\Users\\jannis\\Documents\\HSP_IDS\\Material\\Aktuell\\2025-02-17_11-14-33_192.168.1.0-normal_1\\1554220324.748197-1554220354.748197') # treat it as a long path to avoid path length issues on windows\n",
    "test_window_path_remote = dp.Path(r'/home/hsp252/nas_mount/hunter.ids.data/hunter.ids.preprocessor/processed_dataframes/angriff/2025-03-04_00-03-20_192.168.1.0-normal_DDoS_1/1556203726.876922-1556203756.876922')\n",
    "\n",
    "attack_data_set_path = dp.Path(r'/home/hsp252/nas_mount/hunter.ids.data/hunter.ids.preprocessor/processed_dataframes/angriff')\n",
    "ddos_test_path_parquet = dp.Path(r'/home/hsp252/Development/DDoS')\n",
    "\n",
    "# create host-based fvs\n",
    "# dl.create_and_store_fvs(attack_data_set_path, ddos_test_path_parquet)\n",
    "\n",
    "# TODO: pkls laufen lassen, Klassenbalance erstmal nicht wichtig Murad Featureunterschiede schicken, parquet für Rest machen, identifizierende Features raus, Feature-Wichtigkeit evaluieren, Aufgabe: Wie gut kann man überhaupt klassifizieren? Bringt das alles was? Bei größeren Rechnern schauen, wie viel Leistung das zieht (htop)\n",
    "test_ddos_parquet = dp.pd.read_parquet('../DDoS/intrusion_normal_DDoS_10_final.parquet')\n",
    "test_ddos_parquet_cleaned = test_ddos_parquet[17:].select_dtypes(include='number')\n",
    "bool_columns = test_ddos_parquet_cleaned.select_dtypes(include='bool').columns\n",
    "test_ddos_parquet_cleaned[bool_columns] = test_ddos_parquet_cleaned[bool_columns].astype(float)\n",
    "print(test_ddos_parquet_cleaned.shape)\n"
   ]
  },
  {
   "cell_type": "code",
   "execution_count": null,
   "id": "a69c65ef",
   "metadata": {},
   "outputs": [],
   "source": []
  }
 ],
 "metadata": {
  "kernelspec": {
   "display_name": "jannis_env",
   "language": "python",
   "name": "python3"
  },
  "language_info": {
   "codemirror_mode": {
    "name": "ipython",
    "version": 3
   },
   "file_extension": ".py",
   "mimetype": "text/x-python",
   "name": "python",
   "nbconvert_exporter": "python",
   "pygments_lexer": "ipython3",
   "version": "3.11.9"
  }
 },
 "nbformat": 4,
 "nbformat_minor": 5
}
