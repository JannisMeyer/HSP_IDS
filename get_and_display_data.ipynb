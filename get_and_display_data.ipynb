{
 "cells": [
  {
   "cell_type": "code",
   "execution_count": null,
   "id": "00bae2f6",
   "metadata": {},
   "outputs": [
    {
     "name": "stdout",
     "output_type": "stream",
     "text": [
      "   conn_duration  conn_packets/s  conn_bytes_src  conn_bytes_dst  \\\n",
      "0         7.8502        5.070105    11231.416667         6424.25   \n",
      "\n",
      "   conn_src_ttl  conn_dst_ttl  conn_#src_pkts  conn_#dst_pkts  \\\n",
      "0          64.0         235.0           30.75            16.0   \n",
      "\n",
      "   conn_src_dst_ratio  conn_min_src_pkt_len  ...  \\\n",
      "0            1.603261            212.583333  ...   \n",
      "\n",
      "   conn_kurtosis_dst_payload_len  conn_coeff_variation_dst_payload_len  \\\n",
      "0                      -0.317753                              0.359473   \n",
      "\n",
      "   conn_mean_relative_times  conn_median_relative_times  \\\n",
      "0                  3.766986                    3.678465   \n",
      "\n",
      "   conn_1st_quartile_relative_times  conn_3rd_quartile_relative_times  \\\n",
      "0                          1.543927                          6.034826   \n",
      "\n",
      "   conn_significant_spaces_src  conn_significant_spaces_dst  \\\n",
      "0                         0.75                         0.75   \n",
      "\n",
      "   conn_count_of_zeros_src  conn_count_of_zeros_dst  \n",
      "0                      0.0                      0.0  \n",
      "\n",
      "[1 rows x 85 columns]\n"
     ]
    }
   ],
   "source": [
    "import data_analysis.data_processing as dp\n",
    "import data_analysis.data_learning as dl\n",
    "\n",
    "# reload module to bypass caching\n",
    "import importlib\n",
    "importlib.reload(dp)\n",
    "importlib.reload(dl)\n",
    "\n",
    "# treat it as a long path to avoid path length issues\n",
    "test_window_path_home = dp.Path(r'\\\\?\\C:\\Users\\jannis\\Documents\\HSP_IDS\\Material\\Aktuell\\2025-02-17_11-14-33_192.168.1.0-normal_1\\1554220324.748197-1554220354.748197')\n",
    "#test_window_path_remote = dp.Path(r'\\\\?\\home\\hsp252\\nas_mount\\hunter.ids.data\\hunter.ids.preprocessor\\processed_dataframes\\angriff\\2025-03-04_00-03-20_192.168.1.0-normal_DDoS_1\\1556203726.876922-1556203756.876922')\n",
    "test_window_path_remote = dp.Path(r'/home/hsp252/nas_mount/hunter.ids.data/hunter.ids.preprocessor/processed_dataframes/angriff/2025-03-04_00-03-20_192.168.1.0-normal_DDoS_1/1556203726.876922-1556203756.876922')\n",
    "\n",
    "#test_window_home = dp.ThirtySecWindow(test_window_path_home)\n",
    "test_window_remote = dp.ThirtySecWindow(test_window_path_remote)\n",
    "#dp.get_connection_features(test_window_home, True)\n",
    "#print(dp.averaged_tensecwindow_df(test_window_remote.hosts[0].connections[0]))\n",
    "print(dl.create_feature_vectors(test_window_remote))\n",
    "\n",
    "#da.connection_kmeans(test_window_home)\n",
    "#dl.create_feature_vectors(test_window_home)\n"
   ]
  }
 ],
 "metadata": {
  "kernelspec": {
   "display_name": "jannis_env",
   "language": "python",
   "name": "python3"
  },
  "language_info": {
   "codemirror_mode": {
    "name": "ipython",
    "version": 3
   },
   "file_extension": ".py",
   "mimetype": "text/x-python",
   "name": "python",
   "nbconvert_exporter": "python",
   "pygments_lexer": "ipython3",
   "version": "3.11.9"
  }
 },
 "nbformat": 4,
 "nbformat_minor": 5
}
