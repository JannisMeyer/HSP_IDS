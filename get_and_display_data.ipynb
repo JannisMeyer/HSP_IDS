{
 "cells": [
  {
   "cell_type": "code",
   "execution_count": 4,
   "id": "00bae2f6",
   "metadata": {},
   "outputs": [
    {
     "ename": "TypeError",
     "evalue": "create_feature_vectors() takes 0 positional arguments but 1 was given",
     "output_type": "error",
     "traceback": [
      "\u001b[1;31m---------------------------------------------------------------------------\u001b[0m",
      "\u001b[1;31mTypeError\u001b[0m                                 Traceback (most recent call last)",
      "Cell \u001b[1;32mIn[4], line 17\u001b[0m\n\u001b[0;32m     13\u001b[0m test_window_home \u001b[38;5;241m=\u001b[39m dp\u001b[38;5;241m.\u001b[39mThirtySecWindow(test_window_path_home)\n\u001b[0;32m     14\u001b[0m \u001b[38;5;66;03m#test_window_remote = da.ThirtySecWindow(test_window_path_remote)\u001b[39;00m\n\u001b[0;32m     15\u001b[0m \n\u001b[0;32m     16\u001b[0m \u001b[38;5;66;03m#da.connection_kmeans(test_window_home)\u001b[39;00m\n\u001b[1;32m---> 17\u001b[0m \u001b[43mdl\u001b[49m\u001b[38;5;241;43m.\u001b[39;49m\u001b[43mcreate_feature_vectors\u001b[49m\u001b[43m(\u001b[49m\u001b[43mtest_window_home\u001b[49m\u001b[43m)\u001b[49m\n",
      "\u001b[1;31mTypeError\u001b[0m: create_feature_vectors() takes 0 positional arguments but 1 was given"
     ]
    }
   ],
   "source": [
    "import data_analysis.data_processing as dp\n",
    "import data_analysis.data_learning as dl\n",
    "\n",
    "# reload module to bypass caching\n",
    "import importlib\n",
    "importlib.reload(dp)\n",
    "importlib.reload(dl)\n",
    "\n",
    "# treat it as a long path to avoid path length issues\n",
    "test_window_path_home = dp.Path(r'\\\\?\\C:\\Users\\jannis\\Documents\\HSP_IDS\\Material\\Aktuell\\2025-02-17_11-14-33_192.168.1.0-normal_1\\1554220324.748197-1554220354.748197')\n",
    "test_window_path_remote = dp.Path(r'\\\\?\\...')\n",
    "\n",
    "test_window_home = dp.ThirtySecWindow(test_window_path_home)\n",
    "#test_window_remote = da.ThirtySecWindow(test_window_path_remote)\n",
    "\n",
    "#da.connection_kmeans(test_window_home)\n",
    "dl.create_feature_vectors(test_window_home)\n"
   ]
  }
 ],
 "metadata": {
  "kernelspec": {
   "display_name": "Python 3",
   "language": "python",
   "name": "python3"
  },
  "language_info": {
   "codemirror_mode": {
    "name": "ipython",
    "version": 3
   },
   "file_extension": ".py",
   "mimetype": "text/x-python",
   "name": "python",
   "nbconvert_exporter": "python",
   "pygments_lexer": "ipython3",
   "version": "3.11.9"
  }
 },
 "nbformat": 4,
 "nbformat_minor": 5
}
