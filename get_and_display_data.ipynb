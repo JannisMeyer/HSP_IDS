{
 "cells": [
  {
   "cell_type": "code",
   "execution_count": null,
   "id": "00bae2f6",
   "metadata": {},
   "outputs": [
    {
     "name": "stderr",
     "output_type": "stream",
     "text": [
      "/opt/Miniconda/envs/jannis_env/lib/python3.11/site-packages/tslearn/bases/bases.py:15: UserWarning: h5py not installed, hdf5 features will not be supported.\n",
      "Install h5py to use hdf5 features: http://docs.h5py.org/\n",
      "  warn(h5py_msg)\n"
     ]
    },
    {
     "name": "stdout",
     "output_type": "stream",
     "text": [
      "(4247, 2)\n",
      "22\n",
      "(60, 2)\n",
      "los\n",
      "gets1\n",
      "gethosts\n"
     ]
    }
   ],
   "source": [
    "import data_analysis.data_processing as dp\n",
    "import data_analysis.data_learning as dl\n",
    "\n",
    "# reload module to bypass caching\n",
    "import importlib\n",
    "importlib.reload(dp)\n",
    "importlib.reload(dl)\n",
    "\n",
    "# paths\n",
    "test_window_path_home = dp.Path(r'\\\\?\\C:\\Users\\jannis\\Documents\\HSP_IDS\\Material\\Aktuell\\2025-02-17_11-14-33_192.168.1.0-normal_1\\1554220324.748197-1554220354.748197') # treat it as a long path to avoid path length issues on windows\n",
    "test_window_path_remote = dp.Path(r'/home/hsp252/nas_mount/hunter.ids.data/hunter.ids.preprocessor/processed_dataframes/angriff/2025-03-04_00-03-20_192.168.1.0-normal_DDoS_1/1556203726.876922-1556203756.876922')\n",
    "\n",
    "attack_data_set_path = dp.Path(r'/home/hsp252/nas_mount/hunter.ids.data/hunter.ids.preprocessor/processed_dataframes/angriff')\n",
    "\n",
    "thirty_second_windows_paths = dp.getThirtySecondWindowPaths(attack_data_set_path)\n",
    "sample = thirty_second_windows_paths.groupby(\"type\").sample(n=10, random_state=42).reset_index(drop=True)\n",
    "print(thirty_second_windows_paths.shape)\n",
    "\n",
    "# count number of files in attack data set sample\n",
    "count = 0\n",
    "for i in dp.os.scandir(attack_data_set_path):\n",
    "    count = count + 1\n",
    "print(count)\n",
    "print(sample.shape)\n",
    "\n",
    "# # save each 30s window in a file\n",
    "for index, row in sample.iterrows():\n",
    "    print(row['path'])\n",
    "    tsw = dp.ThirtySecondWindow(dp.Path(row['path']))\n",
    "\n",
    "    # type = row[\"type\"]\n",
    "    # name = dp.Path(row['path']).name\n",
    "\n",
    "    # save_path = f'attack/{type}/{name}'\n",
    "    # print(dp.pp.save(save_path, tsw))\n",
    "    print(\"done\")\n",
    "    break\n",
    "\n",
    "# # create feature vectors for sample\n",
    "# X = []\n",
    "# Y = []\n",
    "\n",
    "# for file in dp.os.scandir('attack'):\n",
    "#     thirty_second_window : dp.ThirtySecondWindow = dp.pp.load(f'attack/{file}')\n",
    "#     type = dp.Path(file).parts(-2)\n",
    "\n",
    "#     X.append(thirty_second_window)\n",
    "\n",
    "\n",
    "\n",
    "\n",
    "\n",
    "\n",
    "\n",
    "\n",
    "\n",
    "\n",
    "\n"
   ]
  },
  {
   "cell_type": "code",
   "execution_count": null,
   "id": "a69c65ef",
   "metadata": {},
   "outputs": [],
   "source": []
  }
 ],
 "metadata": {
  "kernelspec": {
   "display_name": "jannis_env",
   "language": "python",
   "name": "python3"
  },
  "language_info": {
   "codemirror_mode": {
    "name": "ipython",
    "version": 3
   },
   "file_extension": ".py",
   "mimetype": "text/x-python",
   "name": "python",
   "nbconvert_exporter": "python",
   "pygments_lexer": "ipython3",
   "version": "3.11.9"
  }
 },
 "nbformat": 4,
 "nbformat_minor": 5
}
