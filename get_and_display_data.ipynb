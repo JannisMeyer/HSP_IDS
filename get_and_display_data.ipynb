{
 "cells": [
  {
   "cell_type": "code",
   "execution_count": 11,
   "id": "00bae2f6",
   "metadata": {},
   "outputs": [
    {
     "name": "stdout",
     "output_type": "stream",
     "text": [
      "Not enough 10s windows to compute reduced features, skipping!\n",
      "Not enough 10s windows to compute reduced features, skipping!\n",
      "Not enough 10s windows to compute reduced features, skipping!\n",
      "Not enough 10s windows to compute reduced features, skipping!\n",
      "Not enough 10s windows to compute reduced features, skipping!\n",
      "Not enough 10s windows to compute reduced features, skipping!\n",
      "Not enough 10s windows to compute reduced features, skipping!\n",
      "Not enough 10s windows to compute reduced features, skipping!\n",
      "Not enough 10s windows to compute reduced features, skipping!\n",
      "Not enough 10s windows to compute reduced features, skipping!\n",
      "Not enough 10s windows to compute reduced features, skipping!\n",
      "Not enough 10s windows to compute reduced features, skipping!\n",
      "Not enough 10s windows to compute reduced features, skipping!\n",
      "Not enough 10s windows to compute reduced features, skipping!\n",
      "Not enough 10s windows to compute reduced features, skipping!\n",
      "Not enough 10s windows to compute reduced features, skipping!\n",
      "Not enough 10s windows to compute reduced features, skipping!\n",
      "Not enough 10s windows to compute reduced features, skipping!\n",
      "Not enough 10s windows to compute reduced features, skipping!\n",
      "Not enough 10s windows to compute reduced features, skipping!\n",
      "Not enough 10s windows to compute reduced features, skipping!\n",
      "Not enough 10s windows to compute reduced features, skipping!\n",
      "              0\n",
      "0 -34501.478013\n",
      "1 -30424.481480\n",
      "2  21360.284493\n",
      "3  23079.054969\n",
      "4  20486.620031\n"
     ]
    }
   ],
   "source": [
    "import data_analysis.data_processing as d\n",
    "\n",
    "# reload module to bypass caching\n",
    "import importlib\n",
    "importlib.reload(d)\n",
    "\n",
    "# treat it as a long path to avoid path length issues\n",
    "test_window_path = d.Path(r'\\\\?\\C:\\Users\\jannis\\Documents\\HSP_IDS\\Material\\Aktuell\\2025-02-17_11-14-33_192.168.1.0-normal_1\\1554220324.748197-1554220354.748197')\n",
    "test_window = d.ThirtySecWindow(test_window_path)\n",
    "test_data_set_path = d.Path(r'\\\\?\\C:\\Users\\jannis\\Documents\\HSP_IDS\\Material\\Aktuell\\2025-02-17_11-14-33_192.168.1.0-normal_1')\n",
    "\n",
    "# get connection features per host\n",
    "connection_features = d.get_connection_features_per_host(test_window_path, True)\n",
    "\n",
    "# plot correlation heatmap\n",
    "#d.plot_correlation_heatmap(test_window)\n",
    "\n",
    "# show features\n",
    "#d.show_s3_features(test_window)\n",
    "#d.plot_s3_feature(test_window, 'sq_identifier')\n",
    "\n",
    "# iterate over feature sets yielded by the load-function and process\n",
    "#for connection_feature_set in d.load_windows_one_by_one(test_data_set_path):\n",
    " #   d.feed_to_model(connection_feature_set)\n",
    "\n",
    "# print reduced features for first connection of first host\n",
    "df : d.pd.DataFrame = list(list(connection_features.values())[0].values())[1]\n",
    "df.dropna(axis=1, inplace=True)\n",
    "df = df.loc[:, df.dtypes != bool]\n",
    "\n",
    "print(df)"
   ]
  }
 ],
 "metadata": {
  "kernelspec": {
   "display_name": "Python 3",
   "language": "python",
   "name": "python3"
  },
  "language_info": {
   "codemirror_mode": {
    "name": "ipython",
    "version": 3
   },
   "file_extension": ".py",
   "mimetype": "text/x-python",
   "name": "python",
   "nbconvert_exporter": "python",
   "pygments_lexer": "ipython3",
   "version": "3.11.9"
  }
 },
 "nbformat": 4,
 "nbformat_minor": 5
}
