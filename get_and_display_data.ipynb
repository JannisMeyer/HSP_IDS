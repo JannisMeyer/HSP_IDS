{
 "cells": [
  {
   "cell_type": "code",
   "execution_count": null,
   "id": "00bae2f6",
   "metadata": {},
   "outputs": [
    {
     "name": "stderr",
     "output_type": "stream",
     "text": [
      "[09-06-2025 11:45:03] [pypickle.pypickle] [INFO] Loading Pickle file: [/home/hsp252/Development/HSP_IDS/test_ddos_df.pkl]\n"
     ]
    },
    {
     "name": "stdout",
     "output_type": "stream",
     "text": [
      "created normal fv for normal in 0.5014457702636719s, rows: 3\n",
      "created normal fv for normal in 0.4980452060699463s, rows: 6\n",
      "created normal fv for normal in 0.45728611946105957s, rows: 9\n",
      "created normal fv for normal in 1.0054609775543213s, rows: 12\n",
      "created normal fv for normal in 0.4858829975128174s, rows: 15\n",
      "created normal fv for normal in 0.990401029586792s, rows: 18\n",
      "created normal fv for normal in 0.4519078731536865s, rows: 21\n",
      "created normal fv for normal in 0.5560038089752197s, rows: 24\n",
      "created normal fv for normal in 0.4642648696899414s, rows: 27\n",
      "created normal fv for normal in 0.7995214462280273s, rows: 30\n",
      "created normal fv for normal in 0.4506509304046631s, rows: 33\n",
      "created normal fv for normal in 0.6094436645507812s, rows: 37\n",
      "created normal fv for normal in 0.6655550003051758s, rows: 42\n",
      "created normal fv for normal in 0.9213132858276367s, rows: 45\n",
      "created normal fv for normal in 0.4940636157989502s, rows: 48\n",
      "created normal fv for normal in 0.623410701751709s, rows: 52\n",
      "created normal fv for normal in 0.621009349822998s, rows: 56\n",
      "created normal fv for normal in 0.45031046867370605s, rows: 59\n",
      "created normal fv for normal in 0.42198753356933594s, rows: 62\n",
      "created normal fv for normal in 0.5325436592102051s, rows: 65\n",
      "created normal fv for normal in 0.47798728942871094s, rows: 68\n",
      "created normal fv for normal in 0.5163741111755371s, rows: 71\n",
      "created normal fv for normal in 0.46218228340148926s, rows: 74\n",
      "created normal fv for normal in 0.44390153884887695s, rows: 77\n",
      "created normal fv for normal in 0.5589797496795654s, rows: 81\n",
      "created normal fv for normal in 0.47504639625549316s, rows: 84\n",
      "created normal fv for normal in 0.6093966960906982s, rows: 87\n",
      "created normal fv for normal in 0.5483975410461426s, rows: 91\n",
      "created normal fv for normal in 0.5099034309387207s, rows: 94\n",
      "created normal fv for normal in 0.6094756126403809s, rows: 97\n"
     ]
    },
    {
     "name": "stderr",
     "output_type": "stream",
     "text": [
      "[09-06-2025 11:45:21] [pypickle.pypickle] [INFO] Pickle file saved: [/home/hsp252/Development/HSP_IDS/test_normal_df.pkl]\n"
     ]
    },
    {
     "name": "stdout",
     "output_type": "stream",
     "text": [
      "created normal fv for normal in 0.8003034591674805s, rows: 100\n",
      "saved data\n"
     ]
    }
   ],
   "source": [
    "import data_analysis.data_processing as dp\n",
    "import data_analysis.data_learning as dl\n",
    "\n",
    "# reload module to bypass caching\n",
    "import importlib\n",
    "importlib.reload(dp)\n",
    "importlib.reload(dl)\n",
    "\n",
    "# paths\n",
    "test_window_path_home = dp.Path(r'\\\\?\\C:\\Users\\jannis\\Documents\\HSP_IDS\\Material\\Aktuell\\2025-02-17_11-14-33_192.168.1.0-normal_1\\1554220324.748197-1554220354.748197') # treat it as a long path to avoid path length issues on windows\n",
    "test_window_path_remote = dp.Path(r'/home/hsp252/nas_mount/hunter.ids.data/hunter.ids.preprocessor/processed_dataframes/angriff/2025-03-04_00-03-20_192.168.1.0-normal_DDoS_1/1556203726.876922-1556203756.876922')\n",
    "\n",
    "data_set_path = dp.Path(r'/home/hsp252/nas_mount/hunter.ids.data/hunter.ids.preprocessor/processed_dataframes')\n",
    "ddos_test_path_parquet = dp.Path(r'/home/hsp252/Development/DDoS')\n",
    "\n",
    "# create host-based fvs\n",
    "#print(dp.getThirtySecondWindowPaths(data_set_path).head)\n",
    "#dl.create_and_store_fvs(data_set_path, ddos_test_path_parquet)\n",
    "print(dp.pp.load('/home/hsp252/Development/HSP_IDS/test_normal_df.pkl').head)\n",
    "\n",
    "# TODO: pkls laufen lassen, Klassenbalance erstmal nicht wichtig Murad Featureunterschiede schicken, parquet für Rest machen, identifizierende Features raus, Feature-Wichtigkeit evaluieren, Aufgabe: Wie gut kann man überhaupt klassifizieren? Bringt das alles was? Bei größeren Rechnern schauen, wie viel Leistung das zieht (htop)\n",
    "# test_ddos_parquet = dp.pd.read_parquet('../DDoS/intrusion_normal_DDoS_10_final.parquet')\n",
    "# test_ddos_parquet_cleaned = test_ddos_parquet[17:].select_dtypes(include='number')\n",
    "# bool_columns = test_ddos_parquet_cleaned.select_dtypes(include='bool').columns\n",
    "# test_ddos_parquet_cleaned[bool_columns] = test_ddos_parquet_cleaned[bool_columns].astype(float)\n",
    "\n",
    "\n"
   ]
  },
  {
   "cell_type": "code",
   "execution_count": null,
   "id": "a69c65ef",
   "metadata": {},
   "outputs": [],
   "source": []
  }
 ],
 "metadata": {
  "kernelspec": {
   "display_name": "jannis_env",
   "language": "python",
   "name": "python3"
  },
  "language_info": {
   "codemirror_mode": {
    "name": "ipython",
    "version": 3
   },
   "file_extension": ".py",
   "mimetype": "text/x-python",
   "name": "python",
   "nbconvert_exporter": "python",
   "pygments_lexer": "ipython3",
   "version": "3.11.9"
  }
 },
 "nbformat": 4,
 "nbformat_minor": 5
}
